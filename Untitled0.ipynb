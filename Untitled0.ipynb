{
  "nbformat": 4,
  "nbformat_minor": 0,
  "metadata": {
    "colab": {
      "provenance": [],
      "gpuType": "T4",
      "authorship_tag": "ABX9TyMYTckHwcU5wsB27WYn+gvf",
      "include_colab_link": true
    },
    "kernelspec": {
      "name": "python3",
      "display_name": "Python 3"
    },
    "language_info": {
      "name": "python"
    },
    "accelerator": "GPU"
  },
  "cells": [
    {
      "cell_type": "markdown",
      "metadata": {
        "id": "view-in-github",
        "colab_type": "text"
      },
      "source": [
        "<a href=\"https://colab.research.google.com/github/KritikMahesh/PRODIGY_GA_02/blob/main/Untitled0.ipynb\" target=\"_parent\"><img src=\"https://colab.research.google.com/assets/colab-badge.svg\" alt=\"Open In Colab\"/></a>"
      ]
    },
    {
      "cell_type": "code",
      "source": [
        "#@title 📦 Install Packages\n",
        "#@markdown Run this first! Takes about 1-2 minutes\n",
        "\n",
        "print(\"🎨 Setting up AI image generation...\")\n",
        "\n",
        "import subprocess\n",
        "import sys\n",
        "\n",
        "packages = [\n",
        "    \"diffusers\",\n",
        "    \"transformers\",\n",
        "    \"accelerate\",\n",
        "    \"torch\",\n",
        "    \"matplotlib\"\n",
        "]\n",
        "\n",
        "for package in packages:\n",
        "    print(f\"Installing {package}...\")\n",
        "    subprocess.check_call([sys.executable, \"-m\", \"pip\", \"install\", package, \"--quiet\"])\n",
        "\n",
        "print(\"✅ All done! Continue to next cell.\")"
      ],
      "metadata": {
        "colab": {
          "base_uri": "https://localhost:8080/"
        },
        "id": "Q1XR_IviNzpr",
        "outputId": "8352c307-51a9-4ba5-b54a-48bae9f969f8"
      },
      "execution_count": null,
      "outputs": [
        {
          "output_type": "stream",
          "name": "stdout",
          "text": [
            "🎨 Setting up AI image generation...\n",
            "Installing diffusers...\n",
            "Installing transformers...\n",
            "Installing accelerate...\n",
            "Installing torch...\n"
          ]
        }
      ]
    },
    {
      "cell_type": "code",
      "source": [],
      "metadata": {
        "id": "YiQ5W4AUX6R0"
      },
      "execution_count": null,
      "outputs": []
    },
    {
      "cell_type": "code",
      "source": [],
      "metadata": {
        "id": "CCBPROuqX6Ua"
      },
      "execution_count": null,
      "outputs": []
    },
    {
      "cell_type": "code",
      "source": [],
      "metadata": {
        "id": "FXunDsBAX6XG"
      },
      "execution_count": null,
      "outputs": []
    },
    {
      "cell_type": "code",
      "source": [],
      "metadata": {
        "id": "Y8BsDWYRX6ZM"
      },
      "execution_count": null,
      "outputs": []
    },
    {
      "cell_type": "code",
      "source": [],
      "metadata": {
        "id": "hl6_2aDbNzsl"
      },
      "execution_count": null,
      "outputs": []
    }
  ]
}